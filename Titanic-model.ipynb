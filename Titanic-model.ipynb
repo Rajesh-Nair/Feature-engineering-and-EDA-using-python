{
 "cells": [
  {
   "cell_type": "code",
   "execution_count": 52,
   "metadata": {},
   "outputs": [],
   "source": [
    "# Import libraries\n",
    "\n",
    "# Data analysis and wrangling\n",
    "import pandas as pd\n",
    "\n",
    "# For plots\n",
    "import matplotlib.pyplot as plt\n",
    "import seaborn as sns\n",
    "\n",
    "# To have plot inline with jupyter notebook\n",
    "% matplotlib inline\n",
    "\n",
    "\n",
    "\n",
    "# Machine Learning models\n",
    "\n",
    "# Logistic Regression\n",
    "from sklearn.linear_model import LogisticRegression\n",
    "\n",
    "# K-Nearest Neighbour\n",
    "from sklearn.neighbors import KNeighborsClassifier\n",
    "\n",
    "# Naive-Bayes classifier\n",
    "from sklearn.naive_bayes import GaussianNB\n",
    "\n",
    "# Decision tree classifier\n",
    "from sklearn.tree import DecisionTreeClassifier\n",
    "\n"
   ]
  },
  {
   "cell_type": "code",
   "execution_count": 42,
   "metadata": {},
   "outputs": [],
   "source": [
    "# Load training and test dataset\n",
    "df_titan_train = pd.read_csv(\"Titanic/df_train.csv\")\n",
    "df_titan_test = pd.read_csv(\"Titanic/df_test.csv\")"
   ]
  },
  {
   "cell_type": "code",
   "execution_count": 43,
   "metadata": {},
   "outputs": [
    {
     "name": "stdout",
     "output_type": "stream",
     "text": [
      "________________________________________\n",
      "Training Dataset\n",
      "<class 'pandas.core.frame.DataFrame'>\n",
      "RangeIndex: 891 entries, 0 to 890\n",
      "Data columns (total 31 columns):\n",
      "PassengerId               891 non-null int64\n",
      "Survived                  891 non-null int64\n",
      "Pclass                    891 non-null int64\n",
      "SibSp                     891 non-null int64\n",
      "Parch                     891 non-null int64\n",
      "Agegrp                    891 non-null int64\n",
      "Faregrp                   891 non-null int64\n",
      "Pclass_1                  891 non-null int64\n",
      "Pclass_2                  891 non-null int64\n",
      "Pclass_3                  891 non-null int64\n",
      "Embarked_C                891 non-null int64\n",
      "Embarked_Q                891 non-null int64\n",
      "Embarked_S                891 non-null int64\n",
      "Sex_title_female Miss.    891 non-null int64\n",
      "Sex_title_female Mrs.     891 non-null int64\n",
      "Sex_title_female rare     891 non-null int64\n",
      "Sex_title_male Master.    891 non-null int64\n",
      "Sex_title_male Mr.        891 non-null int64\n",
      "Sex_title_male rare       891 non-null int64\n",
      "Agegrp_0                  891 non-null int64\n",
      "Agegrp_1                  891 non-null int64\n",
      "Agegrp_2                  891 non-null int64\n",
      "Agegrp_3                  891 non-null int64\n",
      "Agegrp_4                  891 non-null int64\n",
      "Agegrp_5                  891 non-null int64\n",
      "Faregrp_0                 891 non-null int64\n",
      "Faregrp_1                 891 non-null int64\n",
      "Faregrp_2                 891 non-null int64\n",
      "Faregrp_3                 891 non-null int64\n",
      "Faregrp_4                 891 non-null int64\n",
      "Faregrp_5                 891 non-null int64\n",
      "dtypes: int64(31)\n",
      "memory usage: 215.9 KB\n",
      "________________________________________\n",
      "________________________________________\n",
      "Test Dataset\n",
      "<class 'pandas.core.frame.DataFrame'>\n",
      "RangeIndex: 418 entries, 0 to 417\n",
      "Data columns (total 30 columns):\n",
      "PassengerId               418 non-null int64\n",
      "Pclass                    418 non-null int64\n",
      "SibSp                     418 non-null int64\n",
      "Parch                     418 non-null int64\n",
      "Agegrp                    418 non-null int64\n",
      "Faregrp                   418 non-null int64\n",
      "Pclass_1                  418 non-null int64\n",
      "Pclass_2                  418 non-null int64\n",
      "Pclass_3                  418 non-null int64\n",
      "Embarked_C                418 non-null int64\n",
      "Embarked_Q                418 non-null int64\n",
      "Embarked_S                418 non-null int64\n",
      "Sex_title_female Miss.    418 non-null int64\n",
      "Sex_title_female Mrs.     418 non-null int64\n",
      "Sex_title_female rare     418 non-null int64\n",
      "Sex_title_male Master.    418 non-null int64\n",
      "Sex_title_male Mr.        418 non-null int64\n",
      "Sex_title_male rare       418 non-null int64\n",
      "Agegrp_0                  418 non-null int64\n",
      "Agegrp_1                  418 non-null int64\n",
      "Agegrp_2                  418 non-null int64\n",
      "Agegrp_3                  418 non-null int64\n",
      "Agegrp_4                  418 non-null int64\n",
      "Agegrp_5                  418 non-null int64\n",
      "Faregrp_0                 418 non-null int64\n",
      "Faregrp_1                 418 non-null int64\n",
      "Faregrp_2                 418 non-null int64\n",
      "Faregrp_3                 418 non-null int64\n",
      "Faregrp_4                 418 non-null int64\n",
      "Faregrp_5                 418 non-null int64\n",
      "dtypes: int64(30)\n",
      "memory usage: 98.0 KB\n"
     ]
    }
   ],
   "source": [
    "# Get basic information from both the datasets\n",
    "print('_'*40)\n",
    "print('Training Dataset')\n",
    "df_titan_train.info()\n",
    "print('_'*40)\n",
    "print('_'*40)\n",
    "print('Test Dataset')\n",
    "df_titan_test.info()"
   ]
  },
  {
   "cell_type": "code",
   "execution_count": 44,
   "metadata": {},
   "outputs": [
    {
     "name": "stdout",
     "output_type": "stream",
     "text": [
      "Features :Index(['PassengerId', 'Pclass', 'SibSp', 'Parch', 'Agegrp', 'Faregrp',\n",
      "       'Pclass_1', 'Pclass_2', 'Pclass_3', 'Embarked_C', 'Embarked_Q',\n",
      "       'Embarked_S', 'Sex_title_female Miss.', 'Sex_title_female Mrs.',\n",
      "       'Sex_title_female rare', 'Sex_title_male Master.', 'Sex_title_male Mr.',\n",
      "       'Sex_title_male rare', 'Agegrp_0', 'Agegrp_1', 'Agegrp_2', 'Agegrp_3',\n",
      "       'Agegrp_4', 'Agegrp_5', 'Faregrp_0', 'Faregrp_1', 'Faregrp_2',\n",
      "       'Faregrp_3', 'Faregrp_4', 'Faregrp_5'],\n",
      "      dtype='object') \n",
      "\n",
      "Labels :Survived\n"
     ]
    }
   ],
   "source": [
    "# Features and labels\n",
    "features = df_titan_test.columns\n",
    "label = 'Survived'\n",
    "print(\"Features :{} \\n\\nLabels :{}\".format(features,label))"
   ]
  },
  {
   "cell_type": "code",
   "execution_count": 45,
   "metadata": {},
   "outputs": [
    {
     "data": {
      "text/plain": [
       "Index(['Pclass', 'SibSp', 'Parch', 'Agegrp', 'Faregrp', 'Pclass_1', 'Pclass_2',\n",
       "       'Pclass_3', 'Embarked_C', 'Embarked_Q', 'Embarked_S',\n",
       "       'Sex_title_female Miss.', 'Sex_title_female Mrs.',\n",
       "       'Sex_title_female rare', 'Sex_title_male Master.', 'Sex_title_male Mr.',\n",
       "       'Sex_title_male rare', 'Agegrp_0', 'Agegrp_1', 'Agegrp_2', 'Agegrp_3',\n",
       "       'Agegrp_4', 'Agegrp_5', 'Faregrp_0', 'Faregrp_1', 'Faregrp_2',\n",
       "       'Faregrp_3', 'Faregrp_4', 'Faregrp_5'],\n",
       "      dtype='object')"
      ]
     },
     "execution_count": 45,
     "metadata": {},
     "output_type": "execute_result"
    }
   ],
   "source": [
    "# Features required for model\n",
    "model_features = features[1:]\n",
    "model_features"
   ]
  },
  {
   "cell_type": "code",
   "execution_count": 48,
   "metadata": {},
   "outputs": [
    {
     "name": "stdout",
     "output_type": "stream",
     "text": [
      "Training Accuracy :  83.28 %\n"
     ]
    }
   ],
   "source": [
    "# Logistic Regression - Model\n",
    "Log_model = LogisticRegression()\n",
    "Log_model.fit(df_titan_train[model_features],df_titan_train[label])\n",
    "Log_train_prediction = Log_model.predict(df_titan_train[model_features])\n",
    "print('Training Accuracy : ',round(Log_model.score(df_titan_train[model_features],df_titan_train[label])*100,2),'%')\n",
    "Log_test_prediction = Log_model.predict(df_titan_test[model_features])"
   ]
  },
  {
   "cell_type": "code",
   "execution_count": 50,
   "metadata": {},
   "outputs": [
    {
     "name": "stdout",
     "output_type": "stream",
     "text": [
      "Training Accuracy :  85.07 %\n"
     ]
    }
   ],
   "source": [
    "# K-Nearest Neighbour - Model\n",
    "KNN_model = KNeighborsClassifier()\n",
    "KNN_model.fit(df_titan_train[model_features],df_titan_train[label])\n",
    "KNN_train_prediction = KNN_model.predict(df_titan_train[model_features])\n",
    "print('Training Accuracy : ',round(KNN_model.score(df_titan_train[model_features],df_titan_train[label])*100,2),'%')\n",
    "KNN_test_prediction = KNN_model.predict(df_titan_test[model_features])"
   ]
  },
  {
   "cell_type": "code",
   "execution_count": 51,
   "metadata": {},
   "outputs": [
    {
     "name": "stdout",
     "output_type": "stream",
     "text": [
      "Training Accuracy :  68.91 %\n"
     ]
    }
   ],
   "source": [
    "# Naive Bayes - Model\n",
    "GNB_model = GaussianNB()\n",
    "GNB_model.fit(df_titan_train[model_features],df_titan_train[label])\n",
    "GNB_train_prediction = GNB_model.predict(df_titan_train[model_features])\n",
    "print('Training Accuracy : ',round(GNB_model.score(df_titan_train[model_features],df_titan_train[label])*100,2),'%')\n",
    "GNB_test_prediction = GNB_model.predict(df_titan_test[model_features])"
   ]
  },
  {
   "cell_type": "code",
   "execution_count": 53,
   "metadata": {},
   "outputs": [
    {
     "name": "stdout",
     "output_type": "stream",
     "text": [
      "Training Accuracy :  89.45 %\n"
     ]
    }
   ],
   "source": [
    "# Decision Tree - Model\n",
    "DT_model = DecisionTreeClassifier()\n",
    "DT_model.fit(df_titan_train[model_features],df_titan_train[label])\n",
    "DT_train_prediction = DT_model.predict(df_titan_train[model_features])\n",
    "print('Training Accuracy : ',round(DT_model.score(df_titan_train[model_features],df_titan_train[label])*100,2),'%')\n",
    "DT_test_prediction = DT_model.predict(df_titan_test[model_features])"
   ]
  },
  {
   "cell_type": "code",
   "execution_count": null,
   "metadata": {},
   "outputs": [],
   "source": []
  }
 ],
 "metadata": {
  "kernelspec": {
   "display_name": "Python 3",
   "language": "python",
   "name": "python3"
  },
  "language_info": {
   "codemirror_mode": {
    "name": "ipython",
    "version": 3
   },
   "file_extension": ".py",
   "mimetype": "text/x-python",
   "name": "python",
   "nbconvert_exporter": "python",
   "pygments_lexer": "ipython3",
   "version": "3.5.5"
  }
 },
 "nbformat": 4,
 "nbformat_minor": 2
}
